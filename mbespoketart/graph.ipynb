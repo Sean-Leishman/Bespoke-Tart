{
 "cells": [
  {
   "cell_type": "code",
   "execution_count": 1,
   "id": "initial_id",
   "metadata": {
    "collapsed": true,
    "ExecuteTime": {
     "end_time": "2023-11-15T13:04:53.390169480Z",
     "start_time": "2023-11-15T13:04:53.379486296Z"
    }
   },
   "outputs": [],
   "source": [
    "import argparse\n",
    "import os\n",
    "\n",
    "import seaborn as sns\n",
    "import numpy as np"
   ]
  },
  {
   "cell_type": "code",
   "execution_count": 2,
   "outputs": [],
   "source": [
    "import sys\n",
    "sys.argv = ['']\n"
   ],
   "metadata": {
    "collapsed": false,
    "ExecuteTime": {
     "end_time": "2023-11-15T13:04:53.390344750Z",
     "start_time": "2023-11-15T13:04:53.379840677Z"
    }
   },
   "id": "289d33e83f9c003d"
  },
  {
   "cell_type": "code",
   "execution_count": 3,
   "outputs": [],
   "source": [
    "%load_ext autoreload\n",
    "%autoreload 2\n"
   ],
   "metadata": {
    "collapsed": false,
    "ExecuteTime": {
     "end_time": "2023-11-15T13:04:53.430845602Z",
     "start_time": "2023-11-15T13:04:53.380016849Z"
    }
   },
   "id": "8bb1857122b3dc8a"
  },
  {
   "cell_type": "code",
   "execution_count": 10,
   "outputs": [],
   "source": [
    "load_path = (\"../mbespoketart/trained_model/2023-11-11:01-00-21\")"
   ],
   "metadata": {
    "collapsed": false,
    "ExecuteTime": {
     "end_time": "2023-11-15T13:05:16.887657809Z",
     "start_time": "2023-11-15T13:05:16.867818345Z"
    }
   },
   "id": "8fba6af66a2f9ddf"
  },
  {
   "cell_type": "code",
   "execution_count": 11,
   "outputs": [],
   "source": [
    "metrics = {}\n",
    "for file in os.listdir(load_path):\n",
    "    if \".npy\" not in file:\n",
    "        continue \n",
    "\n",
    "    metrics[file[:file.index(\".\")]] = np.load(os.path.join(load_path,file))\n"
   ],
   "metadata": {
    "collapsed": false,
    "ExecuteTime": {
     "end_time": "2023-11-15T13:05:17.038699270Z",
     "start_time": "2023-11-15T13:05:17.020540767Z"
    }
   },
   "id": "fd3dc726fe359299"
  },
  {
   "cell_type": "code",
   "execution_count": 12,
   "outputs": [],
   "source": [
    "for key in metrics:\n",
    "    if \"test\" in key and \"loss\" not in key and 'lr' not in key:\n",
    "        ax = sns.lineplot(x=[i for i in range(1,1+len(metrics[key]))],\n",
    "                     y=metrics[key], label=key)"
   ],
   "metadata": {
    "collapsed": false,
    "ExecuteTime": {
     "end_time": "2023-11-15T13:05:17.199266003Z",
     "start_time": "2023-11-15T13:05:17.182156547Z"
    }
   },
   "id": "bfe17f0f519341b7"
  },
  {
   "cell_type": "code",
   "execution_count": 13,
   "outputs": [],
   "source": [
    "for key in metrics:\n",
    "    if \"train\" in key and \"loss\" not in key and 'lr' not in key:\n",
    "        ax = sns.lineplot(x=[i for i in range(1,1+len(metrics[key]))],\n",
    "                          y=metrics[key], label=key)\n"
   ],
   "metadata": {
    "collapsed": false,
    "ExecuteTime": {
     "end_time": "2023-11-15T13:05:17.934116722Z",
     "start_time": "2023-11-15T13:05:17.919297264Z"
    }
   },
   "id": "9fe53e3e2a8742b3"
  },
  {
   "cell_type": "code",
   "execution_count": 19,
   "outputs": [
    {
     "data": {
      "text/plain": "<Axes: >"
     },
     "execution_count": 19,
     "metadata": {},
     "output_type": "execute_result"
    },
    {
     "data": {
      "text/plain": "<Figure size 640x480 with 1 Axes>",
      "image/png": "[encoded data removed]"
     },
     "metadata": {},
     "output_type": "display_data"
    }
   ],
   "source": [
    "sns.lineplot(x=[i for i in range(len(metrics[\"train_loss\"]))],\n",
    "             y=metrics[\"train_loss\"], label=\"train_loss\")\n",
    "sns.lineplot(x=[i for i in range(len(metrics[\"val_loss\"]))],\n",
    "             y=metrics[\"val_loss\"], label=\"test_loss\")\n"
   ],
   "metadata": {
    "collapsed": false,
    "ExecuteTime": {
     "end_time": "2023-11-15T13:05:50.031226490Z",
     "start_time": "2023-11-15T13:05:49.880211647Z"
    }
   },
   "id": "1734d72da6d052c3"
  },
  {
   "cell_type": "code",
   "execution_count": 15,
   "outputs": [
    {
     "data": {
      "text/plain": "{'val_correct': array([0, 0, 0, 0, 0, 0]),\n 'val_f1': array([0, 0, 0, 0, 0, 0]),\n 'train_loss': array([3.59953494, 3.56373568, 3.55673984, 3.56306164, 3.55114451,\n        3.56077958]),\n 'val_loss': array([0.0916361 , 0.10181966, 0.10389575, 0.10549845, 0.10447694,\n        0.10305091])}"
     },
     "execution_count": 15,
     "metadata": {},
     "output_type": "execute_result"
    }
   ],
   "source": [
    "metrics"
   ],
   "metadata": {
    "collapsed": false,
    "ExecuteTime": {
     "end_time": "2023-11-15T13:05:22.823691919Z",
     "start_time": "2023-11-15T13:05:22.782698268Z"
    }
   },
   "id": "92f720e8b62c3a45"
  },
  {
   "cell_type": "code",
   "execution_count": 9,
   "outputs": [
    {
     "ename": "ImportError",
     "evalue": "cannot import name 'GPT' from 'model' (/home/seanleishman/BespokeTart/mbespoketart/model.py)",
     "output_type": "error",
     "traceback": [
      "\u001B[0;31m---------------------------------------------------------------------------\u001B[0m",
      "\u001B[0;31mImportError\u001B[0m                               Traceback (most recent call last)",
      "Cell \u001B[0;32mIn[9], line 10\u001B[0m\n\u001B[1;32m      8\u001B[0m \u001B[38;5;28;01mimport\u001B[39;00m \u001B[38;5;21;01mjson\u001B[39;00m \n\u001B[1;32m      9\u001B[0m \u001B[38;5;28;01mimport\u001B[39;00m \u001B[38;5;21;01margparse\u001B[39;00m\n\u001B[0;32m---> 10\u001B[0m \u001B[38;5;28;01mfrom\u001B[39;00m \u001B[38;5;21;01mmodel\u001B[39;00m \u001B[38;5;28;01mimport\u001B[39;00m GPT\n\u001B[1;32m     11\u001B[0m \u001B[38;5;28;01mfrom\u001B[39;00m \u001B[38;5;21;01mtrain\u001B[39;00m \u001B[38;5;28;01mimport\u001B[39;00m get_latest_model\n",
      "\u001B[0;31mImportError\u001B[0m: cannot import name 'GPT' from 'model' (/home/seanleishman/BespokeTart/mbespoketart/model.py)"
     ]
    }
   ],
   "source": [
    "from data.transcript_dm import TranscriptDataset\n",
    "from transformers import AutoTokenizer\n",
    "from torch.utils.data import DataLoader\n",
    "from train import collate_fn, build_parser\n",
    "import torch\n",
    "from trainer import Trainer\n",
    "from types import SimpleNamespace\n",
    "import json \n",
    "import argparse\n",
    "from model import GPT\n",
    "from train import get_latest_model\n",
    "\n"
   ],
   "metadata": {
    "collapsed": false,
    "ExecuteTime": {
     "end_time": "2023-11-15T13:04:56.790497949Z",
     "start_time": "2023-11-15T13:04:55.312101654Z"
    }
   },
   "id": "d274b5d409cea8fe"
  },
  {
   "cell_type": "code",
   "execution_count": 37,
   "outputs": [],
   "source": [
    "ts = TranscriptDataset(\n",
    "        tokenizer=AutoTokenizer.from_pretrained(\"bert-base-uncased\"), overwrite=False)\n",
    "ts.setup()\n",
    "dl = DataLoader(ts, batch_size=320, collate_fn=collate_fn)"
   ],
   "metadata": {
    "collapsed": false,
    "ExecuteTime": {
     "end_time": "2023-11-14T22:08:15.570111516Z",
     "start_time": "2023-11-14T22:08:14.310836666Z"
    }
   },
   "id": "232dca78ab0c9096"
  },
  {
   "cell_type": "code",
   "execution_count": 38,
   "outputs": [
    {
     "ename": "TypeError",
     "evalue": "build_parser() got an unexpected keyword argument 'parse_args'",
     "output_type": "error",
     "traceback": [
      "\u001B[0;31m---------------------------------------------------------------------------\u001B[0m",
      "\u001B[0;31mTypeError\u001B[0m                                 Traceback (most recent call last)",
      "Cell \u001B[0;32mIn[38], line 3\u001B[0m\n\u001B[1;32m      1\u001B[0m load_path \u001B[38;5;241m=\u001B[39m \u001B[38;5;124m\"\u001B[39m\u001B[38;5;124m/home/seanleishman/BespokeTart/gptonly/trained_model/2023-11-11:17-31-35\u001B[39m\u001B[38;5;124m\"\u001B[39m\n\u001B[0;32m----> 3\u001B[0m config \u001B[38;5;241m=\u001B[39m build_parser(parse_args\u001B[38;5;241m=\u001B[39m\u001B[38;5;28;01mTrue\u001B[39;00m)\n\u001B[1;32m      5\u001B[0m \u001B[38;5;28;01mwith\u001B[39;00m \u001B[38;5;28mopen\u001B[39m(os\u001B[38;5;241m.\u001B[39mpath\u001B[38;5;241m.\u001B[39mjoin(load_path, \u001B[38;5;124m\"\u001B[39m\u001B[38;5;124mconfig.json\u001B[39m\u001B[38;5;124m\"\u001B[39m)) \u001B[38;5;28;01mas\u001B[39;00m f:\n\u001B[1;32m      6\u001B[0m     new_config \u001B[38;5;241m=\u001B[39m SimpleNamespace(\u001B[38;5;241m*\u001B[39m\u001B[38;5;241m*\u001B[39mjson\u001B[38;5;241m.\u001B[39mload(f))\n",
      "\u001B[0;31mTypeError\u001B[0m: build_parser() got an unexpected keyword argument 'parse_args'"
     ]
    }
   ],
   "source": [
    "load_path = \"/home/seanleishman/BespokeTart/gptonly/trained_model/2023-11-11:17-31-35\"\n",
    "\n",
    "config = build_parser(parse_args=True)\n",
    "\n",
    "with open(os.path.join(load_path, \"config.json\")) as f:\n",
    "    new_config = SimpleNamespace(**json.load(f))\n",
    "    for arg in vars(new_config):\n",
    "        config.arg = getattr(new_config, arg)\n",
    "config.device = \"cuda\" if torch.cuda.is_available() and (\n",
    "        config.cuda == \"true\") else \"cpu\""
   ],
   "metadata": {
    "collapsed": false,
    "ExecuteTime": {
     "end_time": "2023-11-14T22:08:15.623875016Z",
     "start_time": "2023-11-14T22:08:15.570232473Z"
    }
   },
   "id": "adea1d136ca50f1e"
  },
  {
   "cell_type": "code",
   "execution_count": null,
   "outputs": [],
   "source": [
    "model = GenerationBert(\n",
    "            bert_finetuning=False,\n",
    "            config=config,\n",
    "        )"
   ],
   "metadata": {
    "collapsed": false,
    "ExecuteTime": {
     "start_time": "2023-11-14T22:08:15.624866742Z"
    }
   },
   "id": "eec985277dd4a526"
  },
  {
   "cell_type": "code",
   "execution_count": null,
   "outputs": [],
   "source": [
    "config"
   ],
   "metadata": {
    "collapsed": false,
    "ExecuteTime": {
     "start_time": "2023-11-14T22:08:15.666753225Z"
    }
   },
   "id": "37d35682ee0c4fcd"
  },
  {
   "cell_type": "code",
   "execution_count": null,
   "outputs": [],
   "source": [
    "criterion = torch.nn.CrossEntropyLoss().to(config.device)\n",
    "optimizer = torch.optim.AdamW(model.parameters(), lr=config.learning_rate, weight_decay=config.weight_decay)"
   ],
   "metadata": {
    "collapsed": false,
    "ExecuteTime": {
     "start_time": "2023-11-14T22:08:15.667043212Z"
    }
   },
   "id": "1692f919e2d3fb34"
  },
  {
   "cell_type": "code",
   "execution_count": null,
   "outputs": [],
   "source": [
    "trainer = Trainer(model=model, criterion=criterion,\n",
    "                          optimizer=optimizer, config=config,\n",
    "                          load_from_checkpoint=get_latest_model(load_path))"
   ],
   "metadata": {
    "collapsed": false,
    "ExecuteTime": {
     "end_time": "2023-11-14T22:08:15.668281469Z",
     "start_time": "2023-11-14T22:08:15.667204891Z"
    }
   },
   "id": "6ea33f90b46efb8e"
  },
  {
   "cell_type": "code",
   "execution_count": null,
   "outputs": [],
   "source": [
    "speech = [\"Hello my name is Sean Leishman\", \"yes there are\", \"uh\"]\n",
    "tokens = model.tokenizer(speech, return_tensors=\"pt\", padding=True, truncation=True)"
   ],
   "metadata": {
    "collapsed": false,
    "ExecuteTime": {
     "start_time": "2023-11-14T22:08:15.667373187Z"
    }
   },
   "id": "5963d840c5245942"
  },
  {
   "cell_type": "code",
   "execution_count": null,
   "outputs": [],
   "source": [
    "tokens"
   ],
   "metadata": {
    "collapsed": false,
    "ExecuteTime": {
     "start_time": "2023-11-14T22:08:15.667556870Z"
    }
   },
   "id": "14d286abf316bfc2"
  },
  {
   "cell_type": "code",
   "execution_count": null,
   "outputs": [],
   "source": [
    "tokens['input_ids'][:, 1:-1]"
   ],
   "metadata": {
    "collapsed": false,
    "ExecuteTime": {
     "start_time": "2023-11-14T22:08:15.667679483Z"
    }
   },
   "id": "d20593d45652fec3"
  },
  {
   "cell_type": "code",
   "execution_count": null,
   "outputs": [],
   "source": [
    "model.tokenizer.batch_decode(model.generate(tokens['input_ids'][:, 1:-1]))"
   ],
   "metadata": {
    "collapsed": false,
    "ExecuteTime": {
     "start_time": "2023-11-14T22:08:15.667799330Z"
    }
   },
   "id": "776a3a569d4f0b54"
  },
  {
   "cell_type": "code",
   "execution_count": null,
   "outputs": [],
   "source": [
    "model.generation_config"
   ],
   "metadata": {
    "collapsed": false,
    "ExecuteTime": {
     "start_time": "2023-11-14T22:08:15.667979974Z"
    }
   },
   "id": "bd959f3404f4e729"
  },
  {
   "cell_type": "code",
   "execution_count": null,
   "outputs": [],
   "source": [
    "next(iter(dl))"
   ],
   "metadata": {
    "collapsed": false,
    "ExecuteTime": {
     "start_time": "2023-11-14T22:08:15.668101161Z"
    }
   },
   "id": "21e9c99f9f4575d6"
  },
  {
   "cell_type": "code",
   "execution_count": null,
   "outputs": [],
   "source": [],
   "metadata": {
    "collapsed": false,
    "ExecuteTime": {
     "start_time": "2023-11-14T22:08:15.668220186Z"
    }
   },
   "id": "23990a19c87a239c"
  }
 ],
 "metadata": {
  "kernelspec": {
   "display_name": "Python 3",
   "language": "python",
   "name": "python3"
  },
  "language_info": {
   "codemirror_mode": {
    "name": "ipython",
    "version": 2
   },
   "file_extension": ".py",
   "mimetype": "text/x-python",
   "name": "python",
   "nbconvert_exporter": "python",
   "pygments_lexer": "ipython2",
   "version": "2.7.6"
  }
 },
 "nbformat": 4,
 "nbformat_minor": 5
}
