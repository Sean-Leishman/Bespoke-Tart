{
 "cells": [
  {
   "cell_type": "code",
   "execution_count": 1,
   "id": "97b7aeb5",
   "metadata": {
    "ExecuteTime": {
     "end_time": "2023-10-28T16:31:32.242331674Z",
     "start_time": "2023-10-28T16:31:30.824041116Z"
    }
   },
   "outputs": [],
   "source": [
    "import torch \n",
    "import numpy as np \n",
    "import os\n",
    "import re \n",
    "import random \n",
    "\n",
    "import seaborn as sns\n",
    "import matplotlib.pyplot as plt \n",
    "\n",
    "from transformers import AutoTokenizer\n",
    "from torch.utils.data import Dataset \n",
    "from data import TranscriptDataset"
   ]
  },
  {
   "cell_type": "code",
   "execution_count": 2,
   "id": "3ac2398f",
   "metadata": {
    "ExecuteTime": {
     "end_time": "2023-10-28T16:31:35.092722696Z",
     "start_time": "2023-10-28T16:31:34.223515539Z"
    }
   },
   "outputs": [],
   "source": [
    "ts = TranscriptDataset(tokenizer=AutoTokenizer.from_pretrained('bert-base-uncased', \n",
    "                                                               overwrite=True))"
   ]
  },
  {
   "cell_type": "code",
   "execution_count": 6,
   "id": "89018380",
   "metadata": {
    "ExecuteTime": {
     "end_time": "2023-10-28T16:31:55.097513201Z",
     "start_time": "2023-10-28T16:31:55.085918322Z"
    }
   },
   "outputs": [
    {
     "data": {
      "text/plain": "{'input': {'input_ids': tensor([ 101, 3100, 2085, 2059, 2017, 2657, 1996, 3160, 2054,  102]),\n  'attention_mask': tensor([1, 1, 1, 1, 1, 1, 1, 1, 1, 1])},\n 'output': {'input_ids': tensor([2054, 2079, 2017, 2066, 2000, 2079, 2005, 4426, 1999,  102]),\n  'attention_mask': tensor([1, 1, 1, 1, 1, 1, 1, 1, 1, 1])}}"
     },
     "execution_count": 6,
     "metadata": {},
     "output_type": "execute_result"
    }
   ],
   "source": [
    "ts[1]"
   ]
  },
  {
   "cell_type": "code",
   "execution_count": 34,
   "id": "6b7d55b3",
   "metadata": {},
   "outputs": [],
   "source": [
    "total_count = len(ts)\n",
    "output_1 = sum([(out['output']['input_ids'] == 102).any(dim=0).float() for out in ts]).item()"
   ]
  },
  {
   "cell_type": "code",
   "execution_count": 37,
   "id": "724cd517",
   "metadata": {},
   "outputs": [
    {
     "data": {
      "text/plain": [
       "1.3554028970275378"
      ]
     },
     "execution_count": 37,
     "metadata": {},
     "output_type": "execute_result"
    }
   ],
   "source": [
    "total_count / output_1"
   ]
  },
  {
   "cell_type": "code",
   "execution_count": null,
   "id": "386b759e",
   "metadata": {},
   "outputs": [],
   "source": []
  }
 ],
 "metadata": {
  "kernelspec": {
   "name": "python3",
   "language": "python",
   "display_name": "Python 3 (ipykernel)"
  },
  "language_info": {
   "codemirror_mode": {
    "name": "ipython",
    "version": 3
   },
   "file_extension": ".py",
   "mimetype": "text/x-python",
   "name": "python",
   "nbconvert_exporter": "python",
   "pygments_lexer": "ipython3",
   "version": "3.11.5"
  }
 },
 "nbformat": 4,
 "nbformat_minor": 5
}
