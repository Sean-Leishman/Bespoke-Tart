{
 "cells": [
  {
   "cell_type": "code",
   "execution_count": 1,
   "id": "97b7aeb5",
   "metadata": {},
   "outputs": [],
   "source": [
    "import torch \n",
    "import numpy as np \n",
    "import os\n",
    "import re \n",
    "import random \n",
    "\n",
    "from torch.utils.data import Dataset "
   ]
  },
  {
   "cell_type": "code",
   "execution_count": 2,
   "id": "b24b30aa",
   "metadata": {},
   "outputs": [],
   "source": [
    "filename = '../data/maptask/splits/train.txt'\n",
    "dialog_files = os.listdir('../data/maptask/parsed_transcripts')"
   ]
  },
  {
   "cell_type": "code",
   "execution_count": 3,
   "id": "1ad81336",
   "metadata": {},
   "outputs": [],
   "source": [
    "FILEDIR = '../data/maptask/transcripts'"
   ]
  },
  {
   "cell_type": "code",
   "execution_count": 4,
   "id": "d37b7964",
   "metadata": {},
   "outputs": [
    {
     "name": "stdout",
     "output_type": "stream",
     "text": [
      "CONVO\n",
      "f\tuh-huh \t\n",
      "g\tright \t\n",
      "g\tgo along to your left in a straight line about an inch on the map \t\n",
      "f\twhat am i trying to avoid first of all \t\n",
      "g\tstony desert \t\n",
      "f\tthat's below the start \t\n",
      "g\tuh-huh \t\n",
      "f\tso i just go s-- left \t\n",
      "g\tgo along left \t\n",
      "f\thow far \t\n",
      "g\tabout centimetre and a half \t\n",
      "f\taye \t\n",
      "g\tyou past it \t\n",
      "f\toh right okay right okay \t\n",
      "g\tyou past stony desert \t\n",
      "f\tyeah \t\n",
      "g\tright now go down to bottom left t-- \t\n",
      "f\tdiagonally \t\n",
      "g\tyes \t\n",
      "g\tto miss the to get below the plane crash \t\n",
      "f\tthe plane crash at the top right \t\n",
      "g\tright \t\n",
      "f\twhere does your route end \t\n",
      "g\tsort of middle above middle right \t\n",
      "f\twhat's down there \t\n",
      "g\toh there's another plane crash down here though \t\n",
      "f\tno there's only one \t\n",
      "g\tright we'll just do that anyway right go down diagonally to the bottom left of the page \t\n",
      "f\tright \t\n",
      "g\tnot right to the bottom \t\n",
      "f\tright okay \t\n",
      "g\tand then up in a straight line about \t\n",
      "f\tright \t\n",
      "g\ter about two and a half centimetres \t\n",
      "f\tis there a collaps-- \t\n",
      "f\tis there a collapsed shelter \t\n",
      "g\tcollapsed shelter \t\n",
      "g\tgo up round above that \t\n",
      "f\tuh-huh \t\n",
      "f\tright \t\n",
      "f\tso i start swinging to the right again \t\n",
      "g\twell once you've gone up 'til you're past that on a straight line then go straight line along it and back up above it \t\n",
      "g\tdo you know what i mean \t\n",
      "f\tyeah \t\n",
      "f\tokay right \t\n",
      "g\tright \t\n",
      "g\tthen down so that you've sort of gone back down the s-- the lef-- right-hand side of it 'til you get to the word collapsed shelter \t\n",
      "f\tright \t\n",
      "g\tso are you past collapsed shelter now \t\n",
      "f\tso \t\n",
      "f\tright yeah \t\n",
      "f\tso right now now there's a waterhole to the right of me \t\n",
      "g\ta savannah \t\n",
      "f\tthat's that's to the right of the waterhole \t\n",
      "g\tright well avoid right just move to your right now \t\n",
      "f\tuh-huh \t\n",
      "g\tand so you're directly above the place you started \t\n",
      "f\tright okay that's fine \t\n",
      "g\tabout an about a centimetre about two centimetres \t\n",
      "f\tright \t\n",
      "g\tand then straight up about \t\n",
      "g\tabout five six centimetres until you get to the \t\n",
      "f\tuh-huh \t\n",
      "f\tabove the savannah \t\n",
      "g\tuh-huh \t\n",
      "g\tbut not directly above it to the left of it \t\n",
      "f\tright okay \t\n",
      "g\tand then up until you get to the above the peak of the slate mountain which is just on your left \t\n",
      "f\tslate mountain \t\n",
      "g\tuh-huh \t\n",
      "f\ti don't have one \t\n",
      "g\tit's a big slate mountain \t\n",
      "f\tit's called the white mountain \t\n",
      "g\tright well do that anyway until you're about \t\n",
      "f\tso right \t\n",
      "f\tat this point that and the savannah's to the right and then beyond that is p-- the edge of the page \t\n",
      "g\tuh-huh \t\n",
      "f\tright \t\n",
      "f\tso is the big mountain above the savannah for you \t\n",
      "f\ti've got a \t\n",
      "g\tslate mountain right is that part that i said was about \t\n",
      "f\tuh-huh \t\n",
      "g\tthat m-- a centimetre and or two above the start \t\n",
      "f\tuh-huh \t\n",
      "g\tgo up about five or six centimetres \t\n",
      "f\tstraight up \t\n",
      "g\tuh-huh \t\n",
      "f\tright \t\n",
      "g\tand then move to your left \t\n",
      "f\tuh-huh \t\n",
      "g\tabout two and a half centimetres \t\n",
      "f\tuh-huh \t\n",
      "g\tand then down diagonally from that about you know s-- \t\n",
      "f\tdown to the left \t\n",
      "g\tuh-huh \t\n",
      "g\tto miss hot wells \t\n",
      "f\tuh-huh yeah \t\n",
      "g\tyou got hot wells \t\n",
      "g\tright so you go round down down below the hot wells and skirt round it at the bottom \t\n",
      "f\tjust the hot wells \t\n",
      "f\tso are we \t\n",
      "g\tuh-huh \t\n",
      "g\t'cause you've not got a slate mountain \t\n",
      "g\tjust do what i tell you \t\n",
      "f\tokay \t\n",
      "f\tbut there's elephants to the left of the hot springs \t\n",
      "f\tshall i go round them as well \t\n",
      "g\tuh-huh \t\n",
      "f\tright \t\n",
      "g\tright now down \t\n",
      "f\toh no i can't go down \t\n",
      "g\tright \t\n",
      "f\tthis is a disaster \t\n",
      "g\twell don't go down then go just go straight up the page past \t\n",
      "f\tokay \t\n",
      "g\tdown the to the right-hand side of the ri-- white of the left-hand side of the white mountain \t\n",
      "f\tright that's fine \t\n",
      "f\tquite far up \t\n",
      "g\tuh-huh \t\n",
      "f\tright \t\n",
      "g\tbut leave a big bulbous gap after you've got past the hot wells for the elephants is that right \t\n",
      "f\tyeah \t\n",
      "g\tright \t\n",
      "g\tthen go straight up and cut in down along quite near the side of the white mountain when you've gone up it \t\n",
      "f\tso do you go atop the will i go round the top of the white mountain \t\n",
      "g\tno \t\n",
      "g\tgo right up about three centimetres above it \t\n",
      "f\tuh-huh \t\n",
      "g\tdirectly above the peak just a wee touch to your left of the peak straight line goes directly above the peak \t\n",
      "f\toh right \t\n",
      "g\tand then go right \t\n",
      "f\tright \t\n",
      "g\tabout that much \t\n",
      "f\tuh-huh \t\n",
      "g\tnot diagonally \t\n",
      "f\tright \t\n",
      "g\tand then go round in a sort of round the lake \t\n",
      "g\thave you got a lake up there \t\n",
      "f\tuh-huh \t\n",
      "g\tright well go right up above it and round it and then back round and past \t\n",
      "g\thave you got roman baths \t\n",
      "f\tno \t\n",
      "g\tright well there's roman baths and another plane crash \t\n",
      "f\tah i see the plane crash \t\n",
      "g\tright \t\n",
      "g\twell the roman baths are above and to the left of that \t\n",
      "f\tuh-huh \t\n",
      "g\tso you've got to miss that as well \t\n",
      "f\tso where do i go what c-- side of the plane crash do i go to \t\n",
      "g\twell see the sort of partial semicircle over the top of the lake \t\n",
      "f\tuh-huh \t\n",
      "g\tjust mirror that on the bottom until you're s-- you start m-- until you finish that where you started to do a curve at the top \t\n",
      "g\tsee where you started to curve up above the lake \t\n",
      "f\tuh-huh \t\n",
      "g\tright well \t\n",
      "f\tthere's round rocks to the left of that \t\n",
      "f\tdo you have that \t\n",
      "g\tmm \t\n",
      "f\tdo you have round rocks to the la-- left of the lake \t\n",
      "g\tno \t\n",
      "f\tmm \t\n",
      "g\tanyway right once you've got right to the bottom of the lake okay \t\n",
      "f\tuh-huh \t\n",
      "g\tjust move along to the left of that \t\n",
      "f\tuh-huh \t\n",
      "f\tso it's sort of bottom left of the lake \t\n",
      "g\tuh-huh \t\n",
      "f\tuh-huh \t\n",
      "g\tuntil you're at bottom left of the lake \t\n",
      "f\tright okay \t\n",
      "g\tdo that \t\n",
      "f\tright \t\n",
      "f\tso is it almost a full circle it's like a peninsula \t\n",
      "g\tright \t\n",
      "g\tuh-huh \t\n",
      "g\tthat's what i was trying to say \t\n",
      "f\tright \t\n",
      "g\tand then go down in a straight line virtually \t\n",
      "f\tyes \t\n",
      "g\tjust come out a wee bit further go along left a wee bit further \t\n",
      "f\tuh-huh \t\n",
      "g\tright and then go straight down \t\n",
      "f\tuh-huh \t\n",
      "g\tto avoid antelopes \t\n",
      "g\thave you got antelopes \t\n",
      "f\toh yeah \t\n",
      "g\tright \t\n",
      "g\tand then straight along right \t\n",
      "f\tright okay \t\n",
      "g\tuntil you're directly above the start \t\n",
      "f\tokay right \t\n",
      "g\tand that's your finish \t\n",
      "f\toh good \t\n",
      "\n"
     ]
    }
   ],
   "source": [
    "# Parsing transcript \n",
    "for file in os.listdir(FILEDIR)[:1]:\n",
    "    print(\"CONVO\")\n",
    "    speaker = \"\" \n",
    "    output  = \"\"\n",
    "    with open(os.path.join(FILEDIR, file)) as stream:\n",
    "        lines = stream.readlines()[4:]\n",
    "        for line in lines:\n",
    "            output += line\n",
    "        print(output)\n"
   ]
  },
  {
   "cell_type": "code",
   "execution_count": 5,
   "id": "23976895",
   "metadata": {},
   "outputs": [
    {
     "name": "stdout",
     "output_type": "stream",
     "text": [
      "CONVO\n",
      "uh-huh \n",
      "right go along to your left in a straight line about an inch on the map \n",
      "what am i trying to avoid first of all \n",
      "stony desert \n",
      "that's below the start \n",
      "uh-huh \n",
      "so i just go s-- left \n",
      "go along left \n",
      "how far \n",
      "about centimetre and a half \n",
      "aye \n",
      "you past it \n",
      "oh right okay right okay \n",
      "you past stony desert \n",
      "yeah \n",
      "right now go down to bottom left t-- \n",
      "diagonally \n",
      "yes to miss the to get below the plane crash \n",
      "the plane crash at the top right \n",
      "right \n",
      "where does your route end \n",
      "sort of middle above middle right \n",
      "what's down there \n",
      "oh there's another plane crash down here though \n",
      "no there's only one \n",
      "right we'll just do that anyway right go down diagonally to the bottom left of the page \n",
      "right \n",
      "not right to the bottom \n",
      "right okay \n",
      "and then up in a straight line about \n",
      "right \n",
      "er about two and a half centimetres \n",
      "is there a collaps-- is there a collapsed shelter \n",
      "collapsed shelter go up round above that \n",
      "uh-huh right so i start swinging to the right again \n",
      "well once you've gone up 'til you're past that on a straight line then go straight line along it and back up above it do you know what i mean \n",
      "yeah okay right \n",
      "right then down so that you've sort of gone back down the s-- the lef-- right-hand side of it 'til you get to the word collapsed shelter \n",
      "right \n",
      "so are you past collapsed shelter now \n",
      "so right yeah so right now now there's a waterhole to the right of me \n",
      "a savannah \n",
      "that's that's to the right of the waterhole \n",
      "right well avoid right just move to your right now \n",
      "uh-huh \n",
      "and so you're directly above the place you started \n",
      "right okay that's fine \n",
      "about an about a centimetre about two centimetres \n",
      "right \n",
      "and then straight up about about five six centimetres until you get to the \n",
      "uh-huh above the savannah \n",
      "uh-huh but not directly above it to the left of it \n",
      "right okay \n",
      "and then up until you get to the above the peak of the slate mountain which is just on your left \n",
      "slate mountain \n",
      "uh-huh \n",
      "i don't have one \n",
      "it's a big slate mountain \n",
      "it's called the white mountain \n",
      "right well do that anyway until you're about \n",
      "so right at this point that and the savannah's to the right and then beyond that is p-- the edge of the page \n",
      "uh-huh \n",
      "right so is the big mountain above the savannah for you i've got a \n",
      "slate mountain right is that part that i said was about \n",
      "uh-huh \n",
      "that m-- a centimetre and or two above the start \n",
      "uh-huh \n",
      "go up about five or six centimetres \n",
      "straight up \n",
      "uh-huh \n",
      "right \n",
      "and then move to your left \n",
      "uh-huh \n",
      "about two and a half centimetres \n",
      "uh-huh \n",
      "and then down diagonally from that about you know s-- \n",
      "down to the left \n",
      "uh-huh to miss hot wells \n",
      "uh-huh yeah \n",
      "you got hot wells right so you go round down down below the hot wells and skirt round it at the bottom \n",
      "just the hot wells so are we \n",
      "uh-huh 'cause you've not got a slate mountain just do what i tell you \n",
      "okay but there's elephants to the left of the hot springs shall i go round them as well \n",
      "uh-huh \n",
      "right \n",
      "right now down \n",
      "oh no i can't go down \n",
      "right \n",
      "this is a disaster \n",
      "well don't go down then go just go straight up the page past \n",
      "okay \n",
      "down the to the right-hand side of the ri-- white of the left-hand side of the white mountain \n",
      "right that's fine quite far up \n",
      "uh-huh \n",
      "right \n",
      "but leave a big bulbous gap after you've got past the hot wells for the elephants is that right \n",
      "yeah \n",
      "right then go straight up and cut in down along quite near the side of the white mountain when you've gone up it \n",
      "so do you go atop the will i go round the top of the white mountain \n",
      "no go right up about three centimetres above it \n",
      "uh-huh \n",
      "directly above the peak just a wee touch to your left of the peak straight line goes directly above the peak \n",
      "oh right \n",
      "and then go right \n",
      "right \n",
      "about that much \n",
      "uh-huh \n",
      "not diagonally \n",
      "right \n",
      "and then go round in a sort of round the lake have you got a lake up there \n",
      "uh-huh \n",
      "right well go right up above it and round it and then back round and past have you got roman baths \n",
      "no \n",
      "right well there's roman baths and another plane crash \n",
      "ah i see the plane crash \n",
      "right well the roman baths are above and to the left of that \n",
      "uh-huh \n",
      "so you've got to miss that as well \n",
      "so where do i go what c-- side of the plane crash do i go to \n",
      "well see the sort of partial semicircle over the top of the lake \n",
      "uh-huh \n",
      "just mirror that on the bottom until you're s-- you start m-- until you finish that where you started to do a curve at the top see where you started to curve up above the lake \n",
      "uh-huh \n",
      "right well \n",
      "there's round rocks to the left of that do you have that \n",
      "mm \n",
      "do you have round rocks to the la-- left of the lake \n",
      "no \n",
      "mm \n",
      "anyway right once you've got right to the bottom of the lake okay \n",
      "uh-huh \n",
      "just move along to the left of that \n",
      "uh-huh so it's sort of bottom left of the lake \n",
      "uh-huh \n",
      "uh-huh \n",
      "until you're at bottom left of the lake \n",
      "right okay \n",
      "do that \n",
      "right so is it almost a full circle it's like a peninsula \n",
      "right uh-huh that's what i was trying to say \n",
      "right \n",
      "and then go down in a straight line virtually \n",
      "yes \n",
      "just come out a wee bit further go along left a wee bit further \n",
      "uh-huh \n",
      "right and then go straight down \n",
      "uh-huh \n",
      "to avoid antelopes have you got antelopes \n",
      "oh yeah \n",
      "right and then straight along right \n",
      "right okay \n",
      "until you're directly above the start \n",
      "okay right \n",
      "and that's your finish \n",
      "oh good \n"
     ]
    }
   ],
   "source": [
    "# Parsing transcript \n",
    "for file in os.listdir(FILEDIR)[:1]:\n",
    "    print(\"CONVO\")\n",
    "    speaker = \"\" \n",
    "    output  = \"\"\n",
    "    with open(os.path.join(FILEDIR, file)) as stream:\n",
    "        lines = stream.readlines()[4:]\n",
    "        for line in lines:\n",
    "            line = line.replace(\"\\n\", \"\")\n",
    "            new_speaker = line[0]\n",
    "\n",
    "            if new_speaker == speaker or speaker == \"\":\n",
    "                output += line[2:]\n",
    "                if speaker == \"\":\n",
    "                    speaker = new_speaker\n",
    "            else:\n",
    "                output += \"\\n\"\n",
    "                output += line[2:]\n",
    "                speaker = new_speaker\n",
    "        output = re.sub('[^\\S\\r\\n]+', ' ', output)\n",
    "        print(output)\n"
   ]
  },
  {
   "cell_type": "code",
   "execution_count": 6,
   "id": "a069909b",
   "metadata": {},
   "outputs": [],
   "source": [
    "dialog = []\n",
    "labels = []\n",
    "with open(filename, \"r\") as indexes:\n",
    "    for index in indexes:\n",
    "        dialog_file = os.path.join('../data/maptask/parsed_transcripts', dialog_files[int(index)])\n",
    "        \n",
    "        with open(dialog_file, \"r\") as d:\n",
    "            for line in d.readlines():\n",
    "                    dialog.append(line.strip())\n",
    "                    labels.append(1)"
   ]
  },
  {
   "cell_type": "code",
   "execution_count": 7,
   "id": "e3032192",
   "metadata": {},
   "outputs": [],
   "source": [
    "def weighted_random(choices, first=1, last=1):\n",
    "    choices = [0] * first + [x for x in range(1, len(choices) - 2)] + [len(choices) - 1] * last \n",
    "    print(choices)\n",
    "    return random.choice(choices)"
   ]
  },
  {
   "cell_type": "code",
   "execution_count": 8,
   "id": "fe32e898",
   "metadata": {},
   "outputs": [],
   "source": [
    "def add_non_trp(ipu):\n",
    "    words =  ipu.split(\" \")\n",
    "    start_index = weighted_random(range(0,len(words) - 2), first=10)\n",
    "    length = weighted_random(range(1, len(words) - start_index), first=0, last=10)\n",
    "    return \" \".join(words[start_index: start_index+length])"
   ]
  },
  {
   "cell_type": "code",
   "execution_count": 9,
   "id": "f9f9086f",
   "metadata": {
    "scrolled": false
   },
   "outputs": [
    {
     "name": "stdout",
     "output_type": "stream",
     "text": [
      "right er the start is at a diamond mine\n",
      "[0, 0, 0, 0, 0, 0, 0, 0, 0, 0, 1, 2, 3, 4, 6]\n",
      "[1, 2, 3, 4, 6, 6, 6, 6, 6, 6, 6, 6, 6, 6]\n",
      "er the start is at a\n",
      "[0, 0, 0, 0, 0, 0, 0, 0, 0, 0, 1, 2, 3, 4, 6]\n",
      "[1, 2, 3, 4, 5, 7, 7, 7, 7, 7, 7, 7, 7, 7, 7]\n",
      "right er the start is at a\n",
      "[0, 0, 0, 0, 0, 0, 0, 0, 0, 0, 1, 2, 3, 4, 6]\n",
      "[1, 2, 3, 4, 5, 7, 7, 7, 7, 7, 7, 7, 7, 7, 7]\n",
      "right\n",
      "[0, 0, 0, 0, 0, 0, 0, 0, 0, 0, 1, 2, 3, 4, 6]\n",
      "[1, 2, 3, 4, 5, 7, 7, 7, 7, 7, 7, 7, 7, 7, 7]\n",
      "right er the start\n",
      "[0, 0, 0, 0, 0, 0, 0, 0, 0, 0, 1, 2, 3, 4, 6]\n",
      "[1, 2, 3, 4, 5, 7, 7, 7, 7, 7, 7, 7, 7, 7, 7]\n",
      "right er\n",
      "[0, 0, 0, 0, 0, 0, 0, 0, 0, 0, 1, 2, 3, 4, 6]\n",
      "[1, 2, 3, 4, 5, 7, 7, 7, 7, 7, 7, 7, 7, 7, 7]\n",
      "right er the start is at a\n",
      "[0, 0, 0, 0, 0, 0, 0, 0, 0, 0, 1, 2, 3, 4, 6]\n",
      "[1, 2, 3, 4, 5, 7, 7, 7, 7, 7, 7, 7, 7, 7, 7]\n",
      "right er the start is at a\n",
      "[0, 0, 0, 0, 0, 0, 0, 0, 0, 0, 1, 2, 3, 4, 6]\n",
      "[1, 2, 3, 4, 5, 7, 7, 7, 7, 7, 7, 7, 7, 7, 7]\n",
      "right er the start is at a\n",
      "[0, 0, 0, 0, 0, 0, 0, 0, 0, 0, 1, 2, 3, 4, 6]\n",
      "[1, 2, 3, 4, 5, 7, 7, 7, 7, 7, 7, 7, 7, 7, 7]\n",
      "right er the start is at a\n",
      "[0, 0, 0, 0, 0, 0, 0, 0, 0, 0, 1, 2, 3, 4, 6]\n",
      "[1, 2, 3, 4, 5, 7, 7, 7, 7, 7, 7, 7, 7, 7, 7]\n",
      "right er the\n"
     ]
    }
   ],
   "source": [
    "copy_dialog = dialog[0]\n",
    "print(copy_dialog)\n",
    "for i in range(10):\n",
    "    print(add_non_trp(copy_dialog))"
   ]
  },
  {
   "cell_type": "markdown",
   "id": "601efb56",
   "metadata": {},
   "source": [
    "## Visualize MapTaskDataset"
   ]
  },
  {
   "cell_type": "code",
   "execution_count": 36,
   "id": "569a2c0b",
   "metadata": {},
   "outputs": [],
   "source": [
    "import sys\n",
    "import data\n",
    "import bespoketart\n",
    "\n",
    "import seaborn as sns\n",
    "from transformers import BertTokenizer"
   ]
  },
  {
   "cell_type": "code",
   "execution_count": 11,
   "id": "af53738a",
   "metadata": {},
   "outputs": [],
   "source": [
    "ds = data.maptask.MapTaskDataset()"
   ]
  },
  {
   "cell_type": "code",
   "execution_count": 12,
   "id": "3a5bd633",
   "metadata": {},
   "outputs": [
    {
     "data": {
      "text/plain": [
       "<Axes: ylabel='Count'>"
      ]
     },
     "execution_count": 12,
     "metadata": {},
     "output_type": "execute_result"
    },
    {
     "data": {
      "image/png": "[encoded data removed]",
      "text/plain": [
       "<Figure size 640x480 with 1 Axes>"
      ]
     },
     "metadata": {},
     "output_type": "display_data"
    }
   ],
   "source": [
    "sns.histplot(ds.labels)"
   ]
  },
  {
   "cell_type": "code",
   "execution_count": 13,
   "id": "b5659a55",
   "metadata": {},
   "outputs": [
    {
     "data": {
      "text/plain": [
       "<Axes: ylabel='Count'>"
      ]
     },
     "execution_count": 13,
     "metadata": {},
     "output_type": "execute_result"
    },
    {
     "data": {
      "image/png": "[encoded data removed]",
      "text/plain": [
       "<Figure size 640x480 with 1 Axes>"
      ]
     },
     "metadata": {},
     "output_type": "display_data"
    }
   ],
   "source": [
    "sns.histplot([len(x) for x in ds.dialogs], bins=50)"
   ]
  },
  {
   "cell_type": "code",
   "execution_count": 34,
   "id": "c7b442a4",
   "metadata": {},
   "outputs": [
    {
     "data": {
      "text/plain": [
       "tensor([  101,  2085,  2057,  1005,  2128,  2079,  2023,  1996,  2168,  2126,\n",
       "         2004,  2057,  2106,  2009,  2077,  2045,  1005,  1055,  1037, 16776,\n",
       "         2158,  3788,  2247,   102])"
      ]
     },
     "execution_count": 34,
     "metadata": {},
     "output_type": "execute_result"
    }
   ],
   "source": [
    "ds.tokens['input_ids'][3][:24]"
   ]
  },
  {
   "cell_type": "code",
   "execution_count": 43,
   "id": "61a8f55c",
   "metadata": {},
   "outputs": [
    {
     "data": {
      "text/plain": [
       "(\"so as we can er it'll be fae the perspective of the viewer right is is the guy walking along\",\n",
       " 16)"
      ]
     },
     "execution_count": 43,
     "metadata": {},
     "output_type": "execute_result"
    }
   ],
   "source": [
    "ds.dialogs[6], len(ds.dialogs[4].split(\" \"))"
   ]
  },
  {
   "cell_type": "code",
   "execution_count": 37,
   "id": "646d58d1",
   "metadata": {},
   "outputs": [],
   "source": [
    "tokenizer = BertTokenizer.from_pretrained(\"bert-base-uncased\")"
   ]
  },
  {
   "cell_type": "code",
   "execution_count": 46,
   "id": "ad9e9bd7",
   "metadata": {},
   "outputs": [
    {
     "data": {
      "text/plain": [
       "\"[CLS] so as we can er it'll be fae the perspective of the viewer right is is the guy walking along [SEP] [PAD] [PAD] [PAD] [PAD] [PAD] [PAD] [PAD] [PAD] [PAD] [PAD] [PAD] [PAD] [PAD] [PAD] [PAD] [PAD] [PAD] [PAD] [PAD] [PAD] [PAD] [PAD] [PAD] [PAD] [\""
      ]
     },
     "execution_count": 46,
     "metadata": {},
     "output_type": "execute_result"
    }
   ],
   "source": [
    "tokenizer.decode(ds.tokens['input_ids'][6])[:250]"
   ]
  },
  {
   "cell_type": "code",
   "execution_count": 48,
   "id": "dba52931",
   "metadata": {},
   "outputs": [
    {
     "data": {
      "text/plain": [
       "tensor([0, 0, 0, 0, 0, 0, 0, 0, 0, 0, 0, 0, 0, 0, 0, 0, 0, 0, 0, 0, 0, 0, 0, 0,\n",
       "        0, 0, 0, 0, 0, 0, 0, 0, 0, 0, 0, 0, 0, 0, 0, 0, 0, 0, 0, 0, 0, 0, 0, 0,\n",
       "        0, 0, 0, 0, 0, 0, 0, 0, 0, 0, 0, 0, 0, 0, 0, 0, 0, 0, 0, 0, 0, 0, 0, 0,\n",
       "        0, 0, 0, 0, 0, 0, 0, 0, 0, 0, 0, 0, 0, 0, 0, 0, 0, 0, 0, 0, 0, 0, 0, 0,\n",
       "        0, 0, 0, 0, 0, 0, 0, 0, 0, 0, 0, 0, 0, 0, 0, 0, 0, 0, 0, 0, 0, 0, 0, 0,\n",
       "        0, 0, 0, 0, 0, 0, 0, 0, 0, 0, 0, 0, 0, 0, 0, 0, 0, 0, 0, 0, 0, 0, 0, 0,\n",
       "        0, 0, 0, 0, 0, 0, 0, 0, 0, 0, 0, 0, 0, 0, 0, 0, 0, 0, 0, 0, 0, 0, 0, 0,\n",
       "        0, 0, 0, 0, 0, 0, 0, 0, 0, 0, 0, 0, 0, 0, 0, 0, 0, 0, 0, 0, 0, 0, 0, 0,\n",
       "        0, 0, 0, 0, 0, 0, 0, 0, 0, 0, 0, 0, 0, 0, 0, 0, 0, 0, 0, 0, 0, 0, 0, 0,\n",
       "        0, 0, 0, 0, 0, 0, 0, 0, 0, 0, 0, 0, 0, 0, 0, 0, 0, 0, 0, 0, 0, 0, 0, 0,\n",
       "        0, 0, 0, 0, 0, 0, 0, 0, 0, 0, 0, 0, 0, 0, 0, 0, 0, 0, 0, 0, 0, 0, 0, 0,\n",
       "        0, 0, 0, 0, 0, 0, 0, 0, 0, 0, 0, 0, 0, 0, 0, 0, 0, 0, 0, 0, 0, 0, 0, 0,\n",
       "        0, 0, 0, 0, 0, 0, 0, 0, 0, 0, 0, 0, 0, 0, 0, 0, 0, 0, 0, 0, 0, 0, 0, 0,\n",
       "        0, 0, 0, 0, 0, 0, 0, 0, 0, 0, 0, 0, 0, 0, 0, 0, 0, 0, 0, 0, 0, 0, 0, 0,\n",
       "        0, 0, 0, 0, 0, 0, 0, 0, 0, 0, 0, 0, 0, 0, 0, 0, 0, 0, 0, 0, 0, 0, 0, 0,\n",
       "        0, 0, 0, 0, 0, 0, 0, 0, 0, 0, 0, 0, 0, 0, 0, 0, 0, 0, 0, 0, 0, 0, 0, 0,\n",
       "        0, 0, 0, 0, 0, 0, 0, 0, 0, 0, 0, 0, 0, 0, 0, 0, 0, 0, 0, 0, 0, 0, 0, 0,\n",
       "        0, 0, 0, 0, 0, 0, 0, 0, 0, 0, 0, 0, 0, 0, 0, 0, 0, 0, 0, 0, 0, 0, 0, 0,\n",
       "        0, 0, 0, 0, 0, 0, 0, 0, 0, 0, 0, 0, 0, 0, 0, 0, 0, 0, 0, 0, 0, 0, 0, 0,\n",
       "        0, 0, 0, 0, 0, 0, 0, 0, 0, 0, 0, 0, 0, 0, 0, 0, 0, 0, 0, 0, 0, 0, 0, 0,\n",
       "        0, 0, 0, 0, 0, 0, 0, 0, 0, 0, 0, 0, 0, 0, 0, 0, 0, 0, 0, 0, 0, 0, 0, 0,\n",
       "        0, 0, 0, 0, 0, 0, 0, 0])"
      ]
     },
     "execution_count": 48,
     "metadata": {},
     "output_type": "execute_result"
    }
   ],
   "source": [
    "ds.tokens['token_type_ids'][6]"
   ]
  },
  {
   "cell_type": "code",
   "execution_count": null,
   "id": "9c5a6aea",
   "metadata": {},
   "outputs": [],
   "source": []
  }
 ],
 "metadata": {
  "kernelspec": {
   "display_name": "Python [conda env:diss]",
   "language": "python",
   "name": "conda-env-diss-py"
  },
  "language_info": {
   "codemirror_mode": {
    "name": "ipython",
    "version": 3
   },
   "file_extension": ".py",
   "mimetype": "text/x-python",
   "name": "python",
   "nbconvert_exporter": "python",
   "pygments_lexer": "ipython3",
   "version": "3.11.5"
  }
 },
 "nbformat": 4,
 "nbformat_minor": 5
}
